{
 "cells": [
  {
   "cell_type": "markdown",
   "id": "da46b424-5efa-4bb4-9591-ba71681ee466",
   "metadata": {},
   "source": [
    "IMDB Data Analysis "
   ]
  },
  {
   "cell_type": "markdown",
   "id": "5f3aa8bc-2a1b-4762-90e3-03bf0131faa7",
   "metadata": {},
   "source": [
    "import libraries"
   ]
  },
  {
   "cell_type": "markdown",
   "id": "f3f43ed5-93df-4c42-a255-4d694a78a49f",
   "metadata": {},
   "source": [
    "pandas offers a no.of data exploration,cleaning and transformation operations that are critical in working with data."
   ]
  },
  {
   "cell_type": "code",
   "execution_count": 4,
   "id": "e5f04cb1-6c95-4fc5-90d9-c2e62d4ed650",
   "metadata": {},
   "outputs": [],
   "source": [
    "import pandas as pd"
   ]
  },
  {
   "cell_type": "markdown",
   "id": "a393091f-97dc-4503-a7c6-e48e376ddaf4",
   "metadata": {},
   "source": [
    "Read data set"
   ]
  },
  {
   "cell_type": "code",
   "execution_count": 6,
   "id": "d53be38a-8be5-41db-9318-876fd860989b",
   "metadata": {},
   "outputs": [
    {
     "name": "stdout",
     "output_type": "stream",
     "text": [
      "<class 'pandas.core.frame.DataFrame'>\n"
     ]
    },
    {
     "data": {
      "text/html": [
       "<div>\n",
       "<style scoped>\n",
       "    .dataframe tbody tr th:only-of-type {\n",
       "        vertical-align: middle;\n",
       "    }\n",
       "\n",
       "    .dataframe tbody tr th {\n",
       "        vertical-align: top;\n",
       "    }\n",
       "\n",
       "    .dataframe thead th {\n",
       "        text-align: right;\n",
       "    }\n",
       "</style>\n",
       "<table border=\"1\" class=\"dataframe\">\n",
       "  <thead>\n",
       "    <tr style=\"text-align: right;\">\n",
       "      <th></th>\n",
       "      <th>movieId</th>\n",
       "      <th>title</th>\n",
       "      <th>genres</th>\n",
       "    </tr>\n",
       "  </thead>\n",
       "  <tbody>\n",
       "    <tr>\n",
       "      <th>0</th>\n",
       "      <td>1</td>\n",
       "      <td>Toy Story (1995)</td>\n",
       "      <td>Adventure|Animation|Children|Comedy|Fantasy</td>\n",
       "    </tr>\n",
       "    <tr>\n",
       "      <th>1</th>\n",
       "      <td>2</td>\n",
       "      <td>Jumanji (1995)</td>\n",
       "      <td>Adventure|Children|Fantasy</td>\n",
       "    </tr>\n",
       "    <tr>\n",
       "      <th>2</th>\n",
       "      <td>3</td>\n",
       "      <td>Grumpier Old Men (1995)</td>\n",
       "      <td>Comedy|Romance</td>\n",
       "    </tr>\n",
       "    <tr>\n",
       "      <th>3</th>\n",
       "      <td>4</td>\n",
       "      <td>Waiting to Exhale (1995)</td>\n",
       "      <td>Comedy|Drama|Romance</td>\n",
       "    </tr>\n",
       "    <tr>\n",
       "      <th>4</th>\n",
       "      <td>5</td>\n",
       "      <td>Father of the Bride Part II (1995)</td>\n",
       "      <td>Comedy</td>\n",
       "    </tr>\n",
       "    <tr>\n",
       "      <th>5</th>\n",
       "      <td>6</td>\n",
       "      <td>Heat (1995)</td>\n",
       "      <td>Action|Crime|Thriller</td>\n",
       "    </tr>\n",
       "    <tr>\n",
       "      <th>6</th>\n",
       "      <td>7</td>\n",
       "      <td>Sabrina (1995)</td>\n",
       "      <td>Comedy|Romance</td>\n",
       "    </tr>\n",
       "    <tr>\n",
       "      <th>7</th>\n",
       "      <td>8</td>\n",
       "      <td>Tom and Huck (1995)</td>\n",
       "      <td>Adventure|Children</td>\n",
       "    </tr>\n",
       "    <tr>\n",
       "      <th>8</th>\n",
       "      <td>9</td>\n",
       "      <td>Sudden Death (1995)</td>\n",
       "      <td>Action</td>\n",
       "    </tr>\n",
       "    <tr>\n",
       "      <th>9</th>\n",
       "      <td>10</td>\n",
       "      <td>GoldenEye (1995)</td>\n",
       "      <td>Action|Adventure|Thriller</td>\n",
       "    </tr>\n",
       "    <tr>\n",
       "      <th>10</th>\n",
       "      <td>11</td>\n",
       "      <td>American President, The (1995)</td>\n",
       "      <td>Comedy|Drama|Romance</td>\n",
       "    </tr>\n",
       "    <tr>\n",
       "      <th>11</th>\n",
       "      <td>12</td>\n",
       "      <td>Dracula: Dead and Loving It (1995)</td>\n",
       "      <td>Comedy|Horror</td>\n",
       "    </tr>\n",
       "    <tr>\n",
       "      <th>12</th>\n",
       "      <td>13</td>\n",
       "      <td>Balto (1995)</td>\n",
       "      <td>Adventure|Animation|Children</td>\n",
       "    </tr>\n",
       "    <tr>\n",
       "      <th>13</th>\n",
       "      <td>14</td>\n",
       "      <td>Nixon (1995)</td>\n",
       "      <td>Drama</td>\n",
       "    </tr>\n",
       "    <tr>\n",
       "      <th>14</th>\n",
       "      <td>15</td>\n",
       "      <td>Cutthroat Island (1995)</td>\n",
       "      <td>Action|Adventure|Romance</td>\n",
       "    </tr>\n",
       "    <tr>\n",
       "      <th>15</th>\n",
       "      <td>16</td>\n",
       "      <td>Casino (1995)</td>\n",
       "      <td>Crime|Drama</td>\n",
       "    </tr>\n",
       "    <tr>\n",
       "      <th>16</th>\n",
       "      <td>17</td>\n",
       "      <td>Sense and Sensibility (1995)</td>\n",
       "      <td>Drama|Romance</td>\n",
       "    </tr>\n",
       "    <tr>\n",
       "      <th>17</th>\n",
       "      <td>18</td>\n",
       "      <td>Four Rooms (1995)</td>\n",
       "      <td>Comedy</td>\n",
       "    </tr>\n",
       "    <tr>\n",
       "      <th>18</th>\n",
       "      <td>19</td>\n",
       "      <td>Ace Ventura: When Nature Calls (1995)</td>\n",
       "      <td>Comedy</td>\n",
       "    </tr>\n",
       "    <tr>\n",
       "      <th>19</th>\n",
       "      <td>20</td>\n",
       "      <td>Money Train (1995)</td>\n",
       "      <td>Action|Comedy|Crime|Drama|Thriller</td>\n",
       "    </tr>\n",
       "  </tbody>\n",
       "</table>\n",
       "</div>"
      ],
      "text/plain": [
       "    movieId                                  title  \\\n",
       "0         1                       Toy Story (1995)   \n",
       "1         2                         Jumanji (1995)   \n",
       "2         3                Grumpier Old Men (1995)   \n",
       "3         4               Waiting to Exhale (1995)   \n",
       "4         5     Father of the Bride Part II (1995)   \n",
       "5         6                            Heat (1995)   \n",
       "6         7                         Sabrina (1995)   \n",
       "7         8                    Tom and Huck (1995)   \n",
       "8         9                    Sudden Death (1995)   \n",
       "9        10                       GoldenEye (1995)   \n",
       "10       11         American President, The (1995)   \n",
       "11       12     Dracula: Dead and Loving It (1995)   \n",
       "12       13                           Balto (1995)   \n",
       "13       14                           Nixon (1995)   \n",
       "14       15                Cutthroat Island (1995)   \n",
       "15       16                          Casino (1995)   \n",
       "16       17           Sense and Sensibility (1995)   \n",
       "17       18                      Four Rooms (1995)   \n",
       "18       19  Ace Ventura: When Nature Calls (1995)   \n",
       "19       20                     Money Train (1995)   \n",
       "\n",
       "                                         genres  \n",
       "0   Adventure|Animation|Children|Comedy|Fantasy  \n",
       "1                    Adventure|Children|Fantasy  \n",
       "2                                Comedy|Romance  \n",
       "3                          Comedy|Drama|Romance  \n",
       "4                                        Comedy  \n",
       "5                         Action|Crime|Thriller  \n",
       "6                                Comedy|Romance  \n",
       "7                            Adventure|Children  \n",
       "8                                        Action  \n",
       "9                     Action|Adventure|Thriller  \n",
       "10                         Comedy|Drama|Romance  \n",
       "11                                Comedy|Horror  \n",
       "12                 Adventure|Animation|Children  \n",
       "13                                        Drama  \n",
       "14                     Action|Adventure|Romance  \n",
       "15                                  Crime|Drama  \n",
       "16                                Drama|Romance  \n",
       "17                                       Comedy  \n",
       "18                                       Comedy  \n",
       "19           Action|Comedy|Crime|Drama|Thriller  "
      ]
     },
     "execution_count": 6,
     "metadata": {},
     "output_type": "execute_result"
    }
   ],
   "source": [
    "movies=pd.read_csv(r\"C:\\Users\\rekka\\OneDrive\\Desktop\\FSDS-shruthi\\python-ds\\projects\\projects to do\\pj-6 kaggle\\movie.csv\",sep=',')\n",
    "print(type(movies))\n",
    "movies.head(20)"
   ]
  },
  {
   "cell_type": "code",
   "execution_count": 7,
   "id": "11476149-4108-43b9-b434-485e0350a96e",
   "metadata": {},
   "outputs": [
    {
     "data": {
      "text/html": [
       "<div>\n",
       "<style scoped>\n",
       "    .dataframe tbody tr th:only-of-type {\n",
       "        vertical-align: middle;\n",
       "    }\n",
       "\n",
       "    .dataframe tbody tr th {\n",
       "        vertical-align: top;\n",
       "    }\n",
       "\n",
       "    .dataframe thead th {\n",
       "        text-align: right;\n",
       "    }\n",
       "</style>\n",
       "<table border=\"1\" class=\"dataframe\">\n",
       "  <thead>\n",
       "    <tr style=\"text-align: right;\">\n",
       "      <th></th>\n",
       "      <th>userId</th>\n",
       "      <th>movieId</th>\n",
       "      <th>tag</th>\n",
       "      <th>timestamp</th>\n",
       "    </tr>\n",
       "  </thead>\n",
       "  <tbody>\n",
       "    <tr>\n",
       "      <th>0</th>\n",
       "      <td>18</td>\n",
       "      <td>4141</td>\n",
       "      <td>Mark Waters</td>\n",
       "      <td>2009-04-24 18:19:40</td>\n",
       "    </tr>\n",
       "    <tr>\n",
       "      <th>1</th>\n",
       "      <td>65</td>\n",
       "      <td>208</td>\n",
       "      <td>dark hero</td>\n",
       "      <td>2013-05-10 01:41:18</td>\n",
       "    </tr>\n",
       "    <tr>\n",
       "      <th>2</th>\n",
       "      <td>65</td>\n",
       "      <td>353</td>\n",
       "      <td>dark hero</td>\n",
       "      <td>2013-05-10 01:41:19</td>\n",
       "    </tr>\n",
       "    <tr>\n",
       "      <th>3</th>\n",
       "      <td>65</td>\n",
       "      <td>521</td>\n",
       "      <td>noir thriller</td>\n",
       "      <td>2013-05-10 01:39:43</td>\n",
       "    </tr>\n",
       "    <tr>\n",
       "      <th>4</th>\n",
       "      <td>65</td>\n",
       "      <td>592</td>\n",
       "      <td>dark hero</td>\n",
       "      <td>2013-05-10 01:41:18</td>\n",
       "    </tr>\n",
       "  </tbody>\n",
       "</table>\n",
       "</div>"
      ],
      "text/plain": [
       "   userId  movieId            tag            timestamp\n",
       "0      18     4141    Mark Waters  2009-04-24 18:19:40\n",
       "1      65      208      dark hero  2013-05-10 01:41:18\n",
       "2      65      353      dark hero  2013-05-10 01:41:19\n",
       "3      65      521  noir thriller  2013-05-10 01:39:43\n",
       "4      65      592      dark hero  2013-05-10 01:41:18"
      ]
     },
     "execution_count": 7,
     "metadata": {},
     "output_type": "execute_result"
    }
   ],
   "source": [
    "tags=pd.read_csv(r\"C:\\Users\\rekka\\OneDrive\\Desktop\\FSDS-shruthi\\python-ds\\projects\\projects to do\\pj-6 Kaggle\\tag.csv\",sep=',')\n",
    "tags.head()"
   ]
  },
  {
   "cell_type": "code",
   "execution_count": 8,
   "id": "8312f313-438f-4a7c-a9e3-1135c1b0fdf6",
   "metadata": {},
   "outputs": [
    {
     "data": {
      "text/html": [
       "<div>\n",
       "<style scoped>\n",
       "    .dataframe tbody tr th:only-of-type {\n",
       "        vertical-align: middle;\n",
       "    }\n",
       "\n",
       "    .dataframe tbody tr th {\n",
       "        vertical-align: top;\n",
       "    }\n",
       "\n",
       "    .dataframe thead th {\n",
       "        text-align: right;\n",
       "    }\n",
       "</style>\n",
       "<table border=\"1\" class=\"dataframe\">\n",
       "  <thead>\n",
       "    <tr style=\"text-align: right;\">\n",
       "      <th></th>\n",
       "      <th>userId</th>\n",
       "      <th>movieId</th>\n",
       "      <th>rating</th>\n",
       "      <th>timestamp</th>\n",
       "    </tr>\n",
       "  </thead>\n",
       "  <tbody>\n",
       "    <tr>\n",
       "      <th>0</th>\n",
       "      <td>1</td>\n",
       "      <td>2</td>\n",
       "      <td>3.5</td>\n",
       "      <td>2005-04-02 23:53:47</td>\n",
       "    </tr>\n",
       "    <tr>\n",
       "      <th>1</th>\n",
       "      <td>1</td>\n",
       "      <td>29</td>\n",
       "      <td>3.5</td>\n",
       "      <td>2005-04-02 23:31:16</td>\n",
       "    </tr>\n",
       "    <tr>\n",
       "      <th>2</th>\n",
       "      <td>1</td>\n",
       "      <td>32</td>\n",
       "      <td>3.5</td>\n",
       "      <td>2005-04-02 23:33:39</td>\n",
       "    </tr>\n",
       "    <tr>\n",
       "      <th>3</th>\n",
       "      <td>1</td>\n",
       "      <td>47</td>\n",
       "      <td>3.5</td>\n",
       "      <td>2005-04-02 23:32:07</td>\n",
       "    </tr>\n",
       "    <tr>\n",
       "      <th>4</th>\n",
       "      <td>1</td>\n",
       "      <td>50</td>\n",
       "      <td>3.5</td>\n",
       "      <td>2005-04-02 23:29:40</td>\n",
       "    </tr>\n",
       "  </tbody>\n",
       "</table>\n",
       "</div>"
      ],
      "text/plain": [
       "   userId  movieId  rating            timestamp\n",
       "0       1        2     3.5  2005-04-02 23:53:47\n",
       "1       1       29     3.5  2005-04-02 23:31:16\n",
       "2       1       32     3.5  2005-04-02 23:33:39\n",
       "3       1       47     3.5  2005-04-02 23:32:07\n",
       "4       1       50     3.5  2005-04-02 23:29:40"
      ]
     },
     "execution_count": 8,
     "metadata": {},
     "output_type": "execute_result"
    }
   ],
   "source": [
    "ratings=pd.read_csv(r\"C:\\Users\\rekka\\OneDrive\\Desktop\\FSDS-shruthi\\python-ds\\projects\\projects to do\\pj-6 Kaggle\\rating.csv\",sep=',')\n",
    "ratings.head()"
   ]
  },
  {
   "cell_type": "code",
   "execution_count": 9,
   "id": "95fa5918-5813-4e59-bcb3-b7dcff48f401",
   "metadata": {},
   "outputs": [],
   "source": [
    "del ratings['timestamp']\n",
    "del tags['timestamp']"
   ]
  },
  {
   "cell_type": "markdown",
   "id": "83eb44d1-9199-4733-91f1-9f68f135a437",
   "metadata": {},
   "source": [
    "Data Structures"
   ]
  },
  {
   "cell_type": "markdown",
   "id": "1c0f7df5-fbaa-4407-83d9-59b2c12cd684",
   "metadata": {},
   "source": [
    "Series"
   ]
  },
  {
   "cell_type": "code",
   "execution_count": 12,
   "id": "8d0be366-5ff0-4044-b87a-35b0e537fec2",
   "metadata": {},
   "outputs": [
    {
     "data": {
      "text/plain": [
       "pandas.core.series.Series"
      ]
     },
     "execution_count": 12,
     "metadata": {},
     "output_type": "execute_result"
    }
   ],
   "source": [
    "row_0=tags.iloc[0] # iloc== index location\n",
    "type(row_0)"
   ]
  },
  {
   "cell_type": "code",
   "execution_count": 13,
   "id": "f364fe82-6dc3-4a50-9109-275abb99ccb9",
   "metadata": {},
   "outputs": [
    {
     "name": "stdout",
     "output_type": "stream",
     "text": [
      "userId              18\n",
      "movieId           4141\n",
      "tag        Mark Waters\n",
      "Name: 0, dtype: object\n"
     ]
    }
   ],
   "source": [
    "print(row_0) # gives the values in 1st row with thier corresponding column names now considered as their index"
   ]
  },
  {
   "cell_type": "code",
   "execution_count": 14,
   "id": "eb342341-1a2d-4161-8376-f9bf1b632572",
   "metadata": {},
   "outputs": [
    {
     "data": {
      "text/plain": [
       "Index(['userId', 'movieId', 'tag'], dtype='object')"
      ]
     },
     "execution_count": 14,
     "metadata": {},
     "output_type": "execute_result"
    }
   ],
   "source": [
    "row_0.index "
   ]
  },
  {
   "cell_type": "code",
   "execution_count": 15,
   "id": "2765e63b-76d7-4737-929f-f34608a51bfa",
   "metadata": {},
   "outputs": [
    {
     "data": {
      "text/plain": [
       "18"
      ]
     },
     "execution_count": 15,
     "metadata": {},
     "output_type": "execute_result"
    }
   ],
   "source": [
    "row_0['userId']"
   ]
  },
  {
   "cell_type": "code",
   "execution_count": 16,
   "id": "c9318d3c-056d-445d-95b5-cfe93f5d72a0",
   "metadata": {},
   "outputs": [
    {
     "data": {
      "text/plain": [
       "False"
      ]
     },
     "execution_count": 16,
     "metadata": {},
     "output_type": "execute_result"
    }
   ],
   "source": [
    "'rating' in row_0 # checks if rating is present in row_0"
   ]
  },
  {
   "cell_type": "code",
   "execution_count": 17,
   "id": "0d26f3e9-09e7-4c38-956d-c27eaa9ec7c7",
   "metadata": {},
   "outputs": [
    {
     "data": {
      "text/plain": [
       "0"
      ]
     },
     "execution_count": 17,
     "metadata": {},
     "output_type": "execute_result"
    }
   ],
   "source": [
    "row_0.name"
   ]
  },
  {
   "cell_type": "code",
   "execution_count": 18,
   "id": "1d277239-4250-4d2f-bc3e-ca4c1b4ea433",
   "metadata": {},
   "outputs": [
    {
     "data": {
      "text/plain": [
       "userId              18\n",
       "movieId           4141\n",
       "tag        Mark Waters\n",
       "Name: firstrow, dtype: object"
      ]
     },
     "execution_count": 18,
     "metadata": {},
     "output_type": "execute_result"
    }
   ],
   "source": [
    "row_0=row_0.rename('firstrow') # using rename function we can rename the index names\n",
    "row_0"
   ]
  },
  {
   "cell_type": "markdown",
   "id": "0ec1a310-5cfc-4eb4-9021-6f549ade5d35",
   "metadata": {},
   "source": [
    "Data Frames"
   ]
  },
  {
   "cell_type": "code",
   "execution_count": 20,
   "id": "a1ee1267-9269-4100-a424-2e871f5caac7",
   "metadata": {},
   "outputs": [
    {
     "data": {
      "text/html": [
       "<div>\n",
       "<style scoped>\n",
       "    .dataframe tbody tr th:only-of-type {\n",
       "        vertical-align: middle;\n",
       "    }\n",
       "\n",
       "    .dataframe tbody tr th {\n",
       "        vertical-align: top;\n",
       "    }\n",
       "\n",
       "    .dataframe thead th {\n",
       "        text-align: right;\n",
       "    }\n",
       "</style>\n",
       "<table border=\"1\" class=\"dataframe\">\n",
       "  <thead>\n",
       "    <tr style=\"text-align: right;\">\n",
       "      <th></th>\n",
       "      <th>userId</th>\n",
       "      <th>movieId</th>\n",
       "      <th>tag</th>\n",
       "    </tr>\n",
       "  </thead>\n",
       "  <tbody>\n",
       "    <tr>\n",
       "      <th>0</th>\n",
       "      <td>18</td>\n",
       "      <td>4141</td>\n",
       "      <td>Mark Waters</td>\n",
       "    </tr>\n",
       "    <tr>\n",
       "      <th>1</th>\n",
       "      <td>65</td>\n",
       "      <td>208</td>\n",
       "      <td>dark hero</td>\n",
       "    </tr>\n",
       "    <tr>\n",
       "      <th>2</th>\n",
       "      <td>65</td>\n",
       "      <td>353</td>\n",
       "      <td>dark hero</td>\n",
       "    </tr>\n",
       "    <tr>\n",
       "      <th>3</th>\n",
       "      <td>65</td>\n",
       "      <td>521</td>\n",
       "      <td>noir thriller</td>\n",
       "    </tr>\n",
       "    <tr>\n",
       "      <th>4</th>\n",
       "      <td>65</td>\n",
       "      <td>592</td>\n",
       "      <td>dark hero</td>\n",
       "    </tr>\n",
       "  </tbody>\n",
       "</table>\n",
       "</div>"
      ],
      "text/plain": [
       "   userId  movieId            tag\n",
       "0      18     4141    Mark Waters\n",
       "1      65      208      dark hero\n",
       "2      65      353      dark hero\n",
       "3      65      521  noir thriller\n",
       "4      65      592      dark hero"
      ]
     },
     "execution_count": 20,
     "metadata": {},
     "output_type": "execute_result"
    }
   ],
   "source": [
    "tags.head() # prints 1st five rows"
   ]
  },
  {
   "cell_type": "code",
   "execution_count": 21,
   "id": "00df086f-7c84-4976-aa4b-ad5d3131bf90",
   "metadata": {},
   "outputs": [
    {
     "data": {
      "text/plain": [
       "RangeIndex(start=0, stop=465564, step=1)"
      ]
     },
     "execution_count": 21,
     "metadata": {},
     "output_type": "execute_result"
    }
   ],
   "source": [
    "tags.index # gives the range of indices of tags dataset"
   ]
  },
  {
   "cell_type": "code",
   "execution_count": 22,
   "id": "b7582afb-1afa-49c9-8179-7533ca9bd537",
   "metadata": {},
   "outputs": [
    {
     "data": {
      "text/plain": [
       "Index(['userId', 'movieId', 'tag'], dtype='object')"
      ]
     },
     "execution_count": 22,
     "metadata": {},
     "output_type": "execute_result"
    }
   ],
   "source": [
    "tags.columns # gives column names of tags data set with corresponding datatypes of objects in it."
   ]
  },
  {
   "cell_type": "code",
   "execution_count": 23,
   "id": "88131767-a1fe-40b2-b28e-f249fb6dbd6d",
   "metadata": {},
   "outputs": [
    {
     "data": {
      "text/html": [
       "<div>\n",
       "<style scoped>\n",
       "    .dataframe tbody tr th:only-of-type {\n",
       "        vertical-align: middle;\n",
       "    }\n",
       "\n",
       "    .dataframe tbody tr th {\n",
       "        vertical-align: top;\n",
       "    }\n",
       "\n",
       "    .dataframe thead th {\n",
       "        text-align: right;\n",
       "    }\n",
       "</style>\n",
       "<table border=\"1\" class=\"dataframe\">\n",
       "  <thead>\n",
       "    <tr style=\"text-align: right;\">\n",
       "      <th></th>\n",
       "      <th>userId</th>\n",
       "      <th>movieId</th>\n",
       "      <th>tag</th>\n",
       "    </tr>\n",
       "  </thead>\n",
       "  <tbody>\n",
       "    <tr>\n",
       "      <th>0</th>\n",
       "      <td>18</td>\n",
       "      <td>4141</td>\n",
       "      <td>Mark Waters</td>\n",
       "    </tr>\n",
       "    <tr>\n",
       "      <th>11</th>\n",
       "      <td>65</td>\n",
       "      <td>1783</td>\n",
       "      <td>noir thriller</td>\n",
       "    </tr>\n",
       "    <tr>\n",
       "      <th>500</th>\n",
       "      <td>342</td>\n",
       "      <td>55908</td>\n",
       "      <td>entirely dialogue</td>\n",
       "    </tr>\n",
       "  </tbody>\n",
       "</table>\n",
       "</div>"
      ],
      "text/plain": [
       "     userId  movieId                tag\n",
       "0        18     4141        Mark Waters\n",
       "11       65     1783      noir thriller\n",
       "500     342    55908  entirely dialogue"
      ]
     },
     "execution_count": 23,
     "metadata": {},
     "output_type": "execute_result"
    }
   ],
   "source": [
    "tags.iloc[[0,11,500]] # prints the rows of corresponding index location."
   ]
  },
  {
   "cell_type": "markdown",
   "id": "0b6f55a3-2071-47ed-8ba8-c751f01a336a",
   "metadata": {},
   "source": [
    "Descriptive Statistics"
   ]
  },
  {
   "cell_type": "code",
   "execution_count": 25,
   "id": "e9808ba3-3edf-4f3e-9e71-0214580b78be",
   "metadata": {},
   "outputs": [
    {
     "data": {
      "text/plain": [
       "count    2.000026e+07\n",
       "mean     3.525529e+00\n",
       "std      1.051989e+00\n",
       "min      5.000000e-01\n",
       "25%      3.000000e+00\n",
       "50%      3.500000e+00\n",
       "75%      4.000000e+00\n",
       "max      5.000000e+00\n",
       "Name: rating, dtype: float64"
      ]
     },
     "execution_count": 25,
     "metadata": {},
     "output_type": "execute_result"
    }
   ],
   "source": [
    "ratings['rating'].describe() # gives a statistical info about rating column of ratings dataset."
   ]
  },
  {
   "cell_type": "code",
   "execution_count": 26,
   "id": "08df4f38-3b97-4ee2-ba92-144a67c31d92",
   "metadata": {},
   "outputs": [
    {
     "data": {
      "text/html": [
       "<div>\n",
       "<style scoped>\n",
       "    .dataframe tbody tr th:only-of-type {\n",
       "        vertical-align: middle;\n",
       "    }\n",
       "\n",
       "    .dataframe tbody tr th {\n",
       "        vertical-align: top;\n",
       "    }\n",
       "\n",
       "    .dataframe thead th {\n",
       "        text-align: right;\n",
       "    }\n",
       "</style>\n",
       "<table border=\"1\" class=\"dataframe\">\n",
       "  <thead>\n",
       "    <tr style=\"text-align: right;\">\n",
       "      <th></th>\n",
       "      <th>userId</th>\n",
       "      <th>movieId</th>\n",
       "      <th>rating</th>\n",
       "    </tr>\n",
       "  </thead>\n",
       "  <tbody>\n",
       "    <tr>\n",
       "      <th>count</th>\n",
       "      <td>2.000026e+07</td>\n",
       "      <td>2.000026e+07</td>\n",
       "      <td>2.000026e+07</td>\n",
       "    </tr>\n",
       "    <tr>\n",
       "      <th>mean</th>\n",
       "      <td>6.904587e+04</td>\n",
       "      <td>9.041567e+03</td>\n",
       "      <td>3.525529e+00</td>\n",
       "    </tr>\n",
       "    <tr>\n",
       "      <th>std</th>\n",
       "      <td>4.003863e+04</td>\n",
       "      <td>1.978948e+04</td>\n",
       "      <td>1.051989e+00</td>\n",
       "    </tr>\n",
       "    <tr>\n",
       "      <th>min</th>\n",
       "      <td>1.000000e+00</td>\n",
       "      <td>1.000000e+00</td>\n",
       "      <td>5.000000e-01</td>\n",
       "    </tr>\n",
       "    <tr>\n",
       "      <th>25%</th>\n",
       "      <td>3.439500e+04</td>\n",
       "      <td>9.020000e+02</td>\n",
       "      <td>3.000000e+00</td>\n",
       "    </tr>\n",
       "    <tr>\n",
       "      <th>50%</th>\n",
       "      <td>6.914100e+04</td>\n",
       "      <td>2.167000e+03</td>\n",
       "      <td>3.500000e+00</td>\n",
       "    </tr>\n",
       "    <tr>\n",
       "      <th>75%</th>\n",
       "      <td>1.036370e+05</td>\n",
       "      <td>4.770000e+03</td>\n",
       "      <td>4.000000e+00</td>\n",
       "    </tr>\n",
       "    <tr>\n",
       "      <th>max</th>\n",
       "      <td>1.384930e+05</td>\n",
       "      <td>1.312620e+05</td>\n",
       "      <td>5.000000e+00</td>\n",
       "    </tr>\n",
       "  </tbody>\n",
       "</table>\n",
       "</div>"
      ],
      "text/plain": [
       "             userId       movieId        rating\n",
       "count  2.000026e+07  2.000026e+07  2.000026e+07\n",
       "mean   6.904587e+04  9.041567e+03  3.525529e+00\n",
       "std    4.003863e+04  1.978948e+04  1.051989e+00\n",
       "min    1.000000e+00  1.000000e+00  5.000000e-01\n",
       "25%    3.439500e+04  9.020000e+02  3.000000e+00\n",
       "50%    6.914100e+04  2.167000e+03  3.500000e+00\n",
       "75%    1.036370e+05  4.770000e+03  4.000000e+00\n",
       "max    1.384930e+05  1.312620e+05  5.000000e+00"
      ]
     },
     "execution_count": 26,
     "metadata": {},
     "output_type": "execute_result"
    }
   ],
   "source": [
    "ratings.describe() # gives a statistical info about of ratings dataset."
   ]
  },
  {
   "cell_type": "code",
   "execution_count": 27,
   "id": "2fd19d13-e7c9-4634-9e0c-2d179c13e23e",
   "metadata": {},
   "outputs": [
    {
     "data": {
      "text/plain": [
       "3.5255285642993797"
      ]
     },
     "execution_count": 27,
     "metadata": {},
     "output_type": "execute_result"
    }
   ],
   "source": [
    "ratings['rating'].mean()"
   ]
  },
  {
   "cell_type": "code",
   "execution_count": 28,
   "id": "e45c24d6-dbb9-48e8-800c-b71e7b0b0b21",
   "metadata": {},
   "outputs": [
    {
     "data": {
      "text/plain": [
       "userId     69045.872583\n",
       "movieId     9041.567330\n",
       "rating         3.525529\n",
       "dtype: float64"
      ]
     },
     "execution_count": 28,
     "metadata": {},
     "output_type": "execute_result"
    }
   ],
   "source": [
    "ratings.mean()"
   ]
  },
  {
   "cell_type": "code",
   "execution_count": 29,
   "id": "cb67c730-59c7-42d3-a394-3c3a03fa0db0",
   "metadata": {},
   "outputs": [
    {
     "data": {
      "text/plain": [
       "0.5"
      ]
     },
     "execution_count": 29,
     "metadata": {},
     "output_type": "execute_result"
    }
   ],
   "source": [
    "ratings['rating'].min()"
   ]
  },
  {
   "cell_type": "code",
   "execution_count": 30,
   "id": "5326774c-4fb5-45d1-9fb7-492a16cdac11",
   "metadata": {},
   "outputs": [
    {
     "data": {
      "text/plain": [
       "5.0"
      ]
     },
     "execution_count": 30,
     "metadata": {},
     "output_type": "execute_result"
    }
   ],
   "source": [
    "ratings['rating'].max()"
   ]
  },
  {
   "cell_type": "code",
   "execution_count": 31,
   "id": "ca088651-64ed-4ed7-8fa2-e04c246981c6",
   "metadata": {},
   "outputs": [
    {
     "data": {
      "text/plain": [
       "1.051988919275684"
      ]
     },
     "execution_count": 31,
     "metadata": {},
     "output_type": "execute_result"
    }
   ],
   "source": [
    "ratings['rating'].std() # std=> standard deviation"
   ]
  },
  {
   "cell_type": "code",
   "execution_count": 32,
   "id": "c2a659a8-f550-498a-b2d1-0d1280c83bcb",
   "metadata": {},
   "outputs": [
    {
     "data": {
      "text/plain": [
       "0    4.0\n",
       "Name: rating, dtype: float64"
      ]
     },
     "execution_count": 32,
     "metadata": {},
     "output_type": "execute_result"
    }
   ],
   "source": [
    "ratings['rating'].mode()"
   ]
  },
  {
   "cell_type": "code",
   "execution_count": 33,
   "id": "e82f40b1-3a00-4521-8ca2-4352fbfd1715",
   "metadata": {},
   "outputs": [
    {
     "data": {
      "text/html": [
       "<div>\n",
       "<style scoped>\n",
       "    .dataframe tbody tr th:only-of-type {\n",
       "        vertical-align: middle;\n",
       "    }\n",
       "\n",
       "    .dataframe tbody tr th {\n",
       "        vertical-align: top;\n",
       "    }\n",
       "\n",
       "    .dataframe thead th {\n",
       "        text-align: right;\n",
       "    }\n",
       "</style>\n",
       "<table border=\"1\" class=\"dataframe\">\n",
       "  <thead>\n",
       "    <tr style=\"text-align: right;\">\n",
       "      <th></th>\n",
       "      <th>userId</th>\n",
       "      <th>movieId</th>\n",
       "      <th>rating</th>\n",
       "    </tr>\n",
       "  </thead>\n",
       "  <tbody>\n",
       "    <tr>\n",
       "      <th>userId</th>\n",
       "      <td>1.000000</td>\n",
       "      <td>-0.000850</td>\n",
       "      <td>0.001175</td>\n",
       "    </tr>\n",
       "    <tr>\n",
       "      <th>movieId</th>\n",
       "      <td>-0.000850</td>\n",
       "      <td>1.000000</td>\n",
       "      <td>0.002606</td>\n",
       "    </tr>\n",
       "    <tr>\n",
       "      <th>rating</th>\n",
       "      <td>0.001175</td>\n",
       "      <td>0.002606</td>\n",
       "      <td>1.000000</td>\n",
       "    </tr>\n",
       "  </tbody>\n",
       "</table>\n",
       "</div>"
      ],
      "text/plain": [
       "           userId   movieId    rating\n",
       "userId   1.000000 -0.000850  0.001175\n",
       "movieId -0.000850  1.000000  0.002606\n",
       "rating   0.001175  0.002606  1.000000"
      ]
     },
     "execution_count": 33,
     "metadata": {},
     "output_type": "execute_result"
    }
   ],
   "source": [
    "ratings.corr()"
   ]
  },
  {
   "cell_type": "code",
   "execution_count": 34,
   "id": "70fc9e17-6535-424b-bd40-3002dec1e10d",
   "metadata": {},
   "outputs": [
    {
     "name": "stdout",
     "output_type": "stream",
     "text": [
      "0           False\n",
      "1           False\n",
      "2           False\n",
      "3           False\n",
      "4           False\n",
      "            ...  \n",
      "20000258    False\n",
      "20000259    False\n",
      "20000260    False\n",
      "20000261    False\n",
      "20000262    False\n",
      "Name: rating, Length: 20000263, dtype: bool\n"
     ]
    },
    {
     "data": {
      "text/plain": [
       "False"
      ]
     },
     "execution_count": 34,
     "metadata": {},
     "output_type": "execute_result"
    }
   ],
   "source": [
    "filter1=ratings['rating']>10 # takes all values with rating above 10 in rating column and stores in filter 1\n",
    "print(filter1)\n",
    "filter1.any() # returns True only when atleast one element is true"
   ]
  },
  {
   "cell_type": "code",
   "execution_count": 35,
   "id": "5e5ac6f7-1dc3-4977-b3ec-265974dc4635",
   "metadata": {},
   "outputs": [
    {
     "data": {
      "text/plain": [
       "True"
      ]
     },
     "execution_count": 35,
     "metadata": {},
     "output_type": "execute_result"
    }
   ],
   "source": [
    "filter2=ratings['rating']>0\n",
    "filter2.all() # returns False if atleat one element is false"
   ]
  },
  {
   "cell_type": "markdown",
   "id": "3bbdc99b-af2b-4c36-be96-fd52c10ca799",
   "metadata": {},
   "source": [
    "Data Cleaning: Handling Missing Data"
   ]
  },
  {
   "cell_type": "code",
   "execution_count": 37,
   "id": "9f38d703-a64f-430d-8319-f37af68e2217",
   "metadata": {},
   "outputs": [
    {
     "data": {
      "text/plain": [
       "(27278, 3)"
      ]
     },
     "execution_count": 37,
     "metadata": {},
     "output_type": "execute_result"
    }
   ],
   "source": [
    "movies.shape"
   ]
  },
  {
   "cell_type": "code",
   "execution_count": 38,
   "id": "989c95fe-2fc0-46ad-bf57-83b1ac247bb3",
   "metadata": {},
   "outputs": [
    {
     "data": {
      "text/plain": [
       "False"
      ]
     },
     "execution_count": 38,
     "metadata": {},
     "output_type": "execute_result"
    }
   ],
   "source": [
    "movies.isnull().any().any() # checks if the dataset contains empty values"
   ]
  },
  {
   "cell_type": "code",
   "execution_count": 39,
   "id": "c01c9440-f084-41ed-8c5b-cedc677efeeb",
   "metadata": {},
   "outputs": [
    {
     "data": {
      "text/plain": [
       "(20000263, 3)"
      ]
     },
     "execution_count": 39,
     "metadata": {},
     "output_type": "execute_result"
    }
   ],
   "source": [
    "ratings.shape"
   ]
  },
  {
   "cell_type": "code",
   "execution_count": 40,
   "id": "4250161b-906c-4825-9e35-f3cb38a04299",
   "metadata": {},
   "outputs": [
    {
     "data": {
      "text/plain": [
       "False"
      ]
     },
     "execution_count": 40,
     "metadata": {},
     "output_type": "execute_result"
    }
   ],
   "source": [
    "ratings.isnull().any().any()"
   ]
  },
  {
   "cell_type": "code",
   "execution_count": 41,
   "id": "65f734af-e915-444a-a623-45948b19788e",
   "metadata": {},
   "outputs": [
    {
     "data": {
      "text/plain": [
       "(465564, 3)"
      ]
     },
     "execution_count": 41,
     "metadata": {},
     "output_type": "execute_result"
    }
   ],
   "source": [
    "tags.shape"
   ]
  },
  {
   "cell_type": "code",
   "execution_count": 42,
   "id": "b956773e-4f52-4cd8-8559-04adafa96819",
   "metadata": {},
   "outputs": [
    {
     "data": {
      "text/plain": [
       "True"
      ]
     },
     "execution_count": 42,
     "metadata": {},
     "output_type": "execute_result"
    }
   ],
   "source": [
    "tags.isnull().any().any()"
   ]
  },
  {
   "cell_type": "code",
   "execution_count": 43,
   "id": "4fa81955-c8e0-41d9-8abc-099fb1fcbe57",
   "metadata": {},
   "outputs": [],
   "source": [
    "# false means no need to clean the data but if true, it means data has null values and has to be cleaned\n",
    "tags=tags.dropna() # drops the null values"
   ]
  },
  {
   "cell_type": "code",
   "execution_count": 44,
   "id": "98d9552c-ac8e-4d6c-88e2-e9778147b550",
   "metadata": {},
   "outputs": [
    {
     "data": {
      "text/plain": [
       "False"
      ]
     },
     "execution_count": 44,
     "metadata": {},
     "output_type": "execute_result"
    }
   ],
   "source": [
    "tags.isnull().any().any()"
   ]
  },
  {
   "cell_type": "code",
   "execution_count": 45,
   "id": "52f5dbd7-7105-4d6c-98e0-d1c96985a525",
   "metadata": {},
   "outputs": [
    {
     "data": {
      "text/plain": [
       "(465548, 3)"
      ]
     },
     "execution_count": 45,
     "metadata": {},
     "output_type": "execute_result"
    }
   ],
   "source": [
    "tags.shape"
   ]
  },
  {
   "cell_type": "markdown",
   "id": "d0312d17-9225-47bd-b9a7-dedd251d654f",
   "metadata": {},
   "source": [
    "Data Visualization"
   ]
  },
  {
   "cell_type": "code",
   "execution_count": 47,
   "id": "4170c4dd-7b0a-4451-80d0-eff14ed2de3b",
   "metadata": {},
   "outputs": [
    {
     "data": {
      "text/plain": [
       "array([[<Axes: title={'center': 'rating'}>]], dtype=object)"
      ]
     },
     "execution_count": 47,
     "metadata": {},
     "output_type": "execute_result"
    },
    {
     "data": {
      "image/png": "[encoded data removed]",
      "text/plain": [
       "<Figure size 1000x500 with 1 Axes>"
      ]
     },
     "metadata": {},
     "output_type": "display_data"
    }
   ],
   "source": [
    "%matplotlib inline\n",
    "ratings.hist(column='rating',figsize=(10,5))"
   ]
  },
  {
   "cell_type": "code",
   "execution_count": null,
   "id": "664cb81b-58bc-4fe5-9aba-85026e18356d",
   "metadata": {},
   "outputs": [
    {
     "data": {
      "text/plain": [
       "<Axes: >"
      ]
     },
     "execution_count": 48,
     "metadata": {},
     "output_type": "execute_result"
    }
   ],
   "source": [
    "ratings.boxplot(column='rating',figsize=(10,5))"
   ]
  },
  {
   "cell_type": "markdown",
   "id": "cf858ce4-9865-4738-b2d1-c1e9b7e95b84",
   "metadata": {},
   "source": [
    "Slicing out Coloumns"
   ]
  },
  {
   "cell_type": "code",
   "execution_count": null,
   "id": "9dbc1d87-d446-4f99-82db-3618e29f94c2",
   "metadata": {},
   "outputs": [],
   "source": [
    "tags['tag'].head()"
   ]
  },
  {
   "cell_type": "code",
   "execution_count": null,
   "id": "59402de5-e25f-4fbe-854c-210b90e9040c",
   "metadata": {},
   "outputs": [],
   "source": [
    "movies[['title','genres']].head()"
   ]
  },
  {
   "cell_type": "code",
   "execution_count": null,
   "id": "fbbfca94-5c37-4500-8ec1-c54e92feda3c",
   "metadata": {},
   "outputs": [],
   "source": [
    "ratings[-10:]"
   ]
  },
  {
   "cell_type": "code",
   "execution_count": null,
   "id": "a4ee1435-085e-4c61-b354-cc327dad199f",
   "metadata": {},
   "outputs": [],
   "source": [
    "tags_count=tags['tag'].value_counts() # counts and stores no.of times a movie is tagged\n",
    "tags_count[-10:]"
   ]
  },
  {
   "cell_type": "code",
   "execution_count": null,
   "id": "ff0d035f-92b5-4942-981d-0baaabdaa4bb",
   "metadata": {},
   "outputs": [],
   "source": [
    "tags_count[:10].plot(kind='bar',figsize=(10,5))"
   ]
  },
  {
   "cell_type": "markdown",
   "id": "3c0351d0-24ae-4f4d-b082-ad9b2c50ae20",
   "metadata": {},
   "source": [
    "Filters For Selecting Rows"
   ]
  },
  {
   "cell_type": "code",
   "execution_count": null,
   "id": "3ae1647a-2ad9-4f16-bea4-586bc446e58c",
   "metadata": {},
   "outputs": [],
   "source": [
    "is_highly_rated=ratings['rating']>=5.0 # stores the movies with ratings>=5\n",
    "ratings[is_highly_rated][30:50] # gives 20 values between 30-50, 50-excluded of rating>=5"
   ]
  },
  {
   "cell_type": "code",
   "execution_count": null,
   "id": "41307e9d-e84c-4e44-af0c-4478f78ccf5b",
   "metadata": {},
   "outputs": [],
   "source": [
    "is_action=movies['genres'].str.contains('Action') # stores all rows with the string Action contained \n",
    "movies[is_action][5:15] "
   ]
  },
  {
   "cell_type": "code",
   "execution_count": null,
   "id": "2e53be23-8db9-4899-973a-7f8f61423b6b",
   "metadata": {},
   "outputs": [],
   "source": [
    "movies[is_action].head(15)"
   ]
  },
  {
   "cell_type": "markdown",
   "id": "e4e5cc6f-3377-4f6e-a5d9-95809222af63",
   "metadata": {},
   "source": [
    "Group by and Aggregate"
   ]
  },
  {
   "cell_type": "code",
   "execution_count": null,
   "id": "c9227add-be75-4945-b49e-545dd7cc1a79",
   "metadata": {},
   "outputs": [],
   "source": [
    "ratings.head(5)"
   ]
  },
  {
   "cell_type": "code",
   "execution_count": null,
   "id": "7925b22e-5c93-41bc-8d0f-005654edb732",
   "metadata": {},
   "outputs": [],
   "source": [
    "ratings_count=ratings[['movieId','rating']].groupby('rating').count() # stores the no.of movies with each type of rating.\n",
    "ratings_count"
   ]
  },
  {
   "cell_type": "code",
   "execution_count": null,
   "id": "ec8bd10f-9399-43d0-92e3-c583975c6d1f",
   "metadata": {},
   "outputs": [],
   "source": [
    "average_rating=ratings[['movieId','rating']].groupby('movieId').mean()\n",
    "average_rating.head() # gives average rating of each movie corresponding to its ID"
   ]
  },
  {
   "cell_type": "code",
   "execution_count": null,
   "id": "fb8fabb6-d10a-47a0-bb93-5a626ee3f419",
   "metadata": {},
   "outputs": [],
   "source": [
    "movie_count=ratings[['movieId','rating']].groupby('movieId').count() # stores no.of ratings given to each movie\n",
    "movie_count.head()"
   ]
  },
  {
   "cell_type": "code",
   "execution_count": null,
   "id": "96d6b172-b207-421e-8e9a-1239df8df580",
   "metadata": {},
   "outputs": [],
   "source": [
    "movie_count.tail()"
   ]
  },
  {
   "cell_type": "markdown",
   "id": "42ade466-9c14-4036-81c4-f3af58ddc5eb",
   "metadata": {},
   "source": [
    "Merge Data Frames"
   ]
  },
  {
   "cell_type": "code",
   "execution_count": null,
   "id": "129c519a-33ee-4bb1-843b-76a5c125d9f9",
   "metadata": {},
   "outputs": [],
   "source": [
    "tags.head()"
   ]
  },
  {
   "cell_type": "code",
   "execution_count": null,
   "id": "82823d7e-ae7b-4ab3-9e31-1833886e7062",
   "metadata": {},
   "outputs": [],
   "source": [
    "ratings.head()"
   ]
  },
  {
   "cell_type": "code",
   "execution_count": null,
   "id": "bcb18eb8-0c62-4bd8-b1b5-c2abbb64484a",
   "metadata": {},
   "outputs": [],
   "source": [
    "movies.head()"
   ]
  },
  {
   "cell_type": "code",
   "execution_count": null,
   "id": "d1ad72a9-83a0-470e-ae0e-4ba899ad63c8",
   "metadata": {},
   "outputs": [],
   "source": [
    "t=movies.merge(tags,on='movieId',how='inner') # merges movies and tags data set with movieId as reference and merges table with movieId\n",
    "t.head()"
   ]
  },
  {
   "cell_type": "markdown",
   "id": "61e55557-34f8-403b-9b34-302827bac127",
   "metadata": {},
   "source": [
    "Combine aggregation, merging, and filters to get useful analytics"
   ]
  },
  {
   "cell_type": "code",
   "execution_count": null,
   "id": "9d7bd954-ec99-42a1-a064-e0a5ff9fd3f3",
   "metadata": {},
   "outputs": [],
   "source": [
    "avg_ratings=ratings.groupby('movieId',as_index=False).mean() # as_index=False is used for sql style output\n",
    "del avg_ratings['userId']\n",
    "avg_ratings.head()"
   ]
  },
  {
   "cell_type": "code",
   "execution_count": null,
   "id": "fa06d45c-ce2d-4e58-ba38-1639c856c73d",
   "metadata": {},
   "outputs": [],
   "source": [
    "box_office=movies.merge(avg_ratings,on='movieId',how='inner')\n",
    "box_office.tail() # combines the movies dataset with each movie's average rating"
   ]
  },
  {
   "cell_type": "code",
   "execution_count": null,
   "id": "93dff3b5-2f0a-4aee-906f-5fa3496b186c",
   "metadata": {},
   "outputs": [],
   "source": [
    "is_highly_rated=box_office['rating']>=4.0\n",
    "box_office[is_highly_rated][-5:] # generates last five movies for movie rating >= 4"
   ]
  },
  {
   "cell_type": "code",
   "execution_count": null,
   "id": "552eedc4-2e17-4d2c-a522-e818074a302a",
   "metadata": {},
   "outputs": [],
   "source": [
    "is_adventure=box_office['genres'].str.contains('Adventure')\n",
    "box_office[is_adventure][:5] # generates 1st five adventure movies"
   ]
  },
  {
   "cell_type": "code",
   "execution_count": null,
   "id": "35c4d749-a746-436f-aa6e-02a509f3525e",
   "metadata": {},
   "outputs": [],
   "source": [
    "box_office[is_adventure & is_highly_rated][-5:] # generates last five adventure movies which are highly rated"
   ]
  },
  {
   "cell_type": "markdown",
   "id": "ac9fd8e9-5944-47d1-8618-bfb9485f5948",
   "metadata": {},
   "source": [
    "Vectorized String Operations"
   ]
  },
  {
   "cell_type": "code",
   "execution_count": null,
   "id": "100c3288-05f7-44d3-9694-392bba80e4a0",
   "metadata": {},
   "outputs": [],
   "source": [
    "movies.head()"
   ]
  },
  {
   "cell_type": "markdown",
   "id": "3eb412af-89cb-425b-8856-6abc835af046",
   "metadata": {},
   "source": [
    "Split genres into multiple columns"
   ]
  },
  {
   "cell_type": "code",
   "execution_count": null,
   "id": "cdaf3236-bf6e-4be0-baf0-2e733eb77b46",
   "metadata": {},
   "outputs": [],
   "source": [
    "movie_genres=movies['genres'].str.split('|',expand=True) # splits each type of genre into different columns\n",
    "movie_genres"
   ]
  },
  {
   "cell_type": "markdown",
   "id": "124c6c57-b05d-4bc6-b167-9d5c130cf4a9",
   "metadata": {},
   "source": [
    "Adding a new column for comedy genre flag"
   ]
  },
  {
   "cell_type": "code",
   "execution_count": null,
   "id": "9c265452-762c-475b-acce-78885779cddb",
   "metadata": {},
   "outputs": [],
   "source": [
    "movie_genres['isComedy']=movies['genres'].str.contains('Comedy') # adds a column which checks if each movie is of comedy genre or not."
   ]
  },
  {
   "cell_type": "code",
   "execution_count": null,
   "id": "978d741a-f579-4ec0-8812-4fd785d7619c",
   "metadata": {},
   "outputs": [],
   "source": [
    "movie_genres[:10]"
   ]
  },
  {
   "cell_type": "markdown",
   "id": "8f1072c5-12c9-4e94-a378-91fa969d0ce4",
   "metadata": {},
   "source": [
    "Extract Year From Title"
   ]
  },
  {
   "cell_type": "code",
   "execution_count": null,
   "id": "428c0369-a7e0-42dc-a576-f4ada4a0fa60",
   "metadata": {},
   "outputs": [],
   "source": [
    "import warnings\n",
    "warnings.filterwarnings('ignore') # removes any warnings"
   ]
  },
  {
   "cell_type": "code",
   "execution_count": null,
   "id": "31e296bc-a552-4e90-8922-104df37511b9",
   "metadata": {},
   "outputs": [],
   "source": [
    "movies['year']=movies['title'].str.extract('.*\\((.*)\\).*',expand=True) # extract the year, each movie is released.\n",
    "movies.tail()"
   ]
  },
  {
   "cell_type": "markdown",
   "id": "0790860f-bfb8-4882-8814-698ba1874513",
   "metadata": {},
   "source": [
    "Parsing Timestamps"
   ]
  },
  {
   "cell_type": "code",
   "execution_count": null,
   "id": "c50f7c39-9b63-4b48-ba43-d9101cf42291",
   "metadata": {},
   "outputs": [],
   "source": [
    "tags=pd.read_csv(r\"C:\\Users\\rekka\\OneDrive\\Desktop\\FSDS-shruthi\\python-ds\\projects\\projects to do\\pj-6 kaggle\\tag.csv\")"
   ]
  },
  {
   "cell_type": "code",
   "execution_count": null,
   "id": "51f88b48-fc20-4c6d-af5f-3e30938ca8b0",
   "metadata": {},
   "outputs": [],
   "source": [
    "tags.dtypes"
   ]
  },
  {
   "cell_type": "code",
   "execution_count": null,
   "id": "b583cd32-4709-46fa-a1ac-e49423224bb5",
   "metadata": {},
   "outputs": [],
   "source": [
    "tags.head(5) "
   ]
  },
  {
   "cell_type": "code",
   "execution_count": null,
   "id": "412d46d2-f6c5-4b51-9752-622c8363ca9c",
   "metadata": {},
   "outputs": [],
   "source": [
    "tags['parsed_time']=pd.to_datetime(tags['timestamp'], unit=None) # converts the timestamp to normal time, since we already have timestamp in normal form, we give unit as None otherwise we give it as 's'."
   ]
  },
  {
   "cell_type": "code",
   "execution_count": null,
   "id": "90893708-e602-49d1-934a-531de433f9dc",
   "metadata": {},
   "outputs": [],
   "source": [
    "tags['parsed_time'].dtype"
   ]
  },
  {
   "cell_type": "code",
   "execution_count": null,
   "id": "c1fd8868-b958-47f3-a938-d0cf87bb21df",
   "metadata": {},
   "outputs": [],
   "source": [
    "tags.head(2)"
   ]
  },
  {
   "cell_type": "markdown",
   "id": "2b93a155-15d9-471a-812c-2ad22b9c6d09",
   "metadata": {},
   "source": [
    "Selecting rows based on Time Stamp"
   ]
  },
  {
   "cell_type": "code",
   "execution_count": null,
   "id": "ab9b7362-2cec-497f-becc-5bfb48fed3e8",
   "metadata": {},
   "outputs": [],
   "source": [
    "greater_than_t=tags['parsed_time']>'2015-02-01'\n",
    "selected_rows=tags[greater_than_t]\n",
    "tags.shape, selected_rows.shape"
   ]
  },
  {
   "cell_type": "markdown",
   "id": "6f2b89c1-b1b2-4b06-9d60-1b026769fab5",
   "metadata": {},
   "source": [
    "Sorting the table using the timestamp"
   ]
  },
  {
   "cell_type": "code",
   "execution_count": null,
   "id": "54866551-5f48-49f5-b175-088943567297",
   "metadata": {},
   "outputs": [],
   "source": [
    "tags.sort_values(by='parsed_time',ascending=True)[:10]"
   ]
  },
  {
   "cell_type": "markdown",
   "id": "29597dc4-6123-4a5d-91cd-fba0aae491b9",
   "metadata": {},
   "source": [
    "Average Movie ratings over the year"
   ]
  },
  {
   "cell_type": "code",
   "execution_count": null,
   "id": "cc378076-81a1-4b3b-99b5-0ec7c5f9a175",
   "metadata": {},
   "outputs": [],
   "source": [
    "average_rating=ratings[['movieId','rating']].groupby('movieId',as_index=False).mean()\n",
    "average_rating.tail()"
   ]
  },
  {
   "cell_type": "code",
   "execution_count": null,
   "id": "552ff94a-ef61-4912-8cc3-dc64442c9275",
   "metadata": {},
   "outputs": [],
   "source": [
    "joined=movies.merge(average_rating, on='movieId', how='inner')\n",
    "joined.head()"
   ]
  },
  {
   "cell_type": "code",
   "execution_count": null,
   "id": "39bf7c9f-ab02-484c-bdcc-722ded341c03",
   "metadata": {},
   "outputs": [],
   "source": [
    "average_rating.corr() # gives correlation between movieId and rating."
   ]
  }
 ],
 "metadata": {
  "kernelspec": {
   "display_name": "Python 3 (ipykernel)",
   "language": "python",
   "name": "python3"
  },
  "language_info": {
   "codemirror_mode": {
    "name": "ipython",
    "version": 3
   },
   "file_extension": ".py",
   "mimetype": "text/x-python",
   "name": "python",
   "nbconvert_exporter": "python",
   "pygments_lexer": "ipython3",
   "version": "3.12.4"
  }
 },
 "nbformat": 4,
 "nbformat_minor": 5
}
